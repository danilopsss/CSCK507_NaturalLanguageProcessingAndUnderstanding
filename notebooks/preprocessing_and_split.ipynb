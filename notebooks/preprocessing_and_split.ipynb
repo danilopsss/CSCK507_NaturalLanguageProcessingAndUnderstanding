{
 "cells": [
  {
   "cell_type": "code",
   "execution_count": 1,
   "id": "7f8c416b-1f98-419e-b814-f108d9b6c2ee",
   "metadata": {},
   "outputs": [],
   "source": [
    "# Data Preprocessing Notebook for Generative QA Chatbot\n",
    "#Preprocessing pipeline for the Q&A dataset.\n",
    "#Tasks: cleaning, tokenization, vocabulary building, padding, and splitting."
   ]
  },
  {
   "cell_type": "code",
   "execution_count": 2,
   "id": "bf3bbd9b-3909-4980-8886-05182a200d7f",
   "metadata": {},
   "outputs": [
    {
     "name": "stdout",
     "output_type": "stream",
     "text": [
      "Requirement already satisfied: nltk in /Users/aschoonewolff/Documents/CODE/CSCK507_NaturalLanguageProcessingAndUnderstanding/.venv/lib/python3.12/site-packages (3.9.1)\n",
      "Requirement already satisfied: click in /Users/aschoonewolff/Documents/CODE/CSCK507_NaturalLanguageProcessingAndUnderstanding/.venv/lib/python3.12/site-packages (from nltk) (8.2.1)\n",
      "Requirement already satisfied: joblib in /Users/aschoonewolff/Documents/CODE/CSCK507_NaturalLanguageProcessingAndUnderstanding/.venv/lib/python3.12/site-packages (from nltk) (1.5.1)\n",
      "Requirement already satisfied: regex>=2021.8.3 in /Users/aschoonewolff/Documents/CODE/CSCK507_NaturalLanguageProcessingAndUnderstanding/.venv/lib/python3.12/site-packages (from nltk) (2025.7.34)\n",
      "Requirement already satisfied: tqdm in /Users/aschoonewolff/Documents/CODE/CSCK507_NaturalLanguageProcessingAndUnderstanding/.venv/lib/python3.12/site-packages (from nltk) (4.67.1)\n",
      "Note: you may need to restart the kernel to use updated packages.\n"
     ]
    }
   ],
   "source": [
    "%pip install nltk"
   ]
  },
  {
   "cell_type": "code",
   "execution_count": 3,
   "id": "7b4911d6-ecd5-41e2-9d3b-0bc28ccd99f0",
   "metadata": {},
   "outputs": [
    {
     "name": "stdout",
     "output_type": "stream",
     "text": [
      "Requirement already satisfied: torch in /Users/aschoonewolff/Documents/CODE/CSCK507_NaturalLanguageProcessingAndUnderstanding/.venv/lib/python3.12/site-packages (2.7.1)\n",
      "Requirement already satisfied: torchvision in /Users/aschoonewolff/Documents/CODE/CSCK507_NaturalLanguageProcessingAndUnderstanding/.venv/lib/python3.12/site-packages (0.22.1)\n",
      "Requirement already satisfied: torchaudio in /Users/aschoonewolff/Documents/CODE/CSCK507_NaturalLanguageProcessingAndUnderstanding/.venv/lib/python3.12/site-packages (2.7.1)\n",
      "Requirement already satisfied: filelock in /Users/aschoonewolff/Documents/CODE/CSCK507_NaturalLanguageProcessingAndUnderstanding/.venv/lib/python3.12/site-packages (from torch) (3.18.0)\n",
      "Requirement already satisfied: typing-extensions>=4.10.0 in /Users/aschoonewolff/Documents/CODE/CSCK507_NaturalLanguageProcessingAndUnderstanding/.venv/lib/python3.12/site-packages (from torch) (4.14.1)\n",
      "Requirement already satisfied: setuptools in /Users/aschoonewolff/Documents/CODE/CSCK507_NaturalLanguageProcessingAndUnderstanding/.venv/lib/python3.12/site-packages (from torch) (80.9.0)\n",
      "Requirement already satisfied: sympy>=1.13.3 in /Users/aschoonewolff/Documents/CODE/CSCK507_NaturalLanguageProcessingAndUnderstanding/.venv/lib/python3.12/site-packages (from torch) (1.14.0)\n",
      "Requirement already satisfied: networkx in /Users/aschoonewolff/Documents/CODE/CSCK507_NaturalLanguageProcessingAndUnderstanding/.venv/lib/python3.12/site-packages (from torch) (3.5)\n",
      "Requirement already satisfied: jinja2 in /Users/aschoonewolff/Documents/CODE/CSCK507_NaturalLanguageProcessingAndUnderstanding/.venv/lib/python3.12/site-packages (from torch) (3.1.6)\n",
      "Requirement already satisfied: fsspec in /Users/aschoonewolff/Documents/CODE/CSCK507_NaturalLanguageProcessingAndUnderstanding/.venv/lib/python3.12/site-packages (from torch) (2025.7.0)\n",
      "Requirement already satisfied: numpy in /Users/aschoonewolff/Documents/CODE/CSCK507_NaturalLanguageProcessingAndUnderstanding/.venv/lib/python3.12/site-packages (from torchvision) (2.3.2)\n",
      "Requirement already satisfied: pillow!=8.3.*,>=5.3.0 in /Users/aschoonewolff/Documents/CODE/CSCK507_NaturalLanguageProcessingAndUnderstanding/.venv/lib/python3.12/site-packages (from torchvision) (11.3.0)\n",
      "Requirement already satisfied: mpmath<1.4,>=1.1.0 in /Users/aschoonewolff/Documents/CODE/CSCK507_NaturalLanguageProcessingAndUnderstanding/.venv/lib/python3.12/site-packages (from sympy>=1.13.3->torch) (1.3.0)\n",
      "Requirement already satisfied: MarkupSafe>=2.0 in /Users/aschoonewolff/Documents/CODE/CSCK507_NaturalLanguageProcessingAndUnderstanding/.venv/lib/python3.12/site-packages (from jinja2->torch) (3.0.2)\n",
      "Note: you may need to restart the kernel to use updated packages.\n"
     ]
    }
   ],
   "source": [
    "%pip install torch torchvision torchaudio"
   ]
  },
  {
   "cell_type": "code",
   "execution_count": 4,
   "id": "8b53ab24-7df0-43e4-87b0-9e220aaecaad",
   "metadata": {},
   "outputs": [],
   "source": [
    "import os\n",
    "import re\n",
    "import random\n",
    "\n",
    "# Data handling\n",
    "import pandas as pd\n",
    "import numpy as np\n",
    "\n",
    "# NLP preprocessing\n",
    "import nltk\n",
    "from nltk.tokenize import TreebankWordTokenizer\n",
    "tokenizer = TreebankWordTokenizer()\n",
    "\n",
    "# nltk tokenizer path\n",
    "#nltk.download('punkt', download_dir='/Users/guirz/nltk_data')\n",
    "#nltk.data.path.append('/Users/guirz/nltk_data')\n",
    "\n",
    "# train/val/test splitting\n",
    "from sklearn.model_selection import train_test_split\n",
    "\n",
    "# Torch will be used for model prep\n",
    "import torch\n",
    "import torch.nn as nn\n",
    "import torch.nn.functional as F"
   ]
  },
  {
   "cell_type": "code",
   "execution_count": 5,
   "id": "13c12815-3429-49a1-94a0-2bd687a7951d",
   "metadata": {},
   "outputs": [],
   "source": [
    "### Merge 3 datasets (S08, S09, S10)\n",
    "# Load `question_answer_pairs` files\n",
    "# Add a `source` column to track their origin year\n",
    "# Combine them into a single DataFrame"
   ]
  },
  {
   "cell_type": "code",
   "execution_count": null,
   "id": "83144575-a6dd-4243-9b22-7c16ff24e240",
   "metadata": {},
   "outputs": [
    {
     "name": "stdout",
     "output_type": "stream",
     "text": [
      "Total merged Q&A pairs: 3420\n"
     ]
    },
    {
     "data": {
      "application/vnd.microsoft.datawrangler.viewer.v0+json": {
       "columns": [
        {
         "name": "index",
         "rawType": "int64",
         "type": "integer"
        },
        {
         "name": "Question",
         "rawType": "object",
         "type": "string"
        },
        {
         "name": "Answer",
         "rawType": "object",
         "type": "string"
        },
        {
         "name": "source",
         "rawType": "object",
         "type": "string"
        }
       ],
       "ref": "b08776cb-3bd8-4831-9afe-74ec1de53633",
       "rows": [
        [
         "0",
         "Was Abraham Lincoln the sixteenth President of the United States?",
         "yes",
         "S08"
        ],
        [
         "1",
         "Was Abraham Lincoln the sixteenth President of the United States?",
         "Yes.",
         "S08"
        ],
        [
         "2",
         "Did Lincoln sign the National Banking Act of 1863?",
         "yes",
         "S08"
        ],
        [
         "3",
         "Did Lincoln sign the National Banking Act of 1863?",
         "Yes.",
         "S08"
        ],
        [
         "4",
         "Did his mother die of pneumonia?",
         "no",
         "S08"
        ]
       ],
       "shape": {
        "columns": 3,
        "rows": 5
       }
      },
      "text/html": [
       "<div>\n",
       "<style scoped>\n",
       "    .dataframe tbody tr th:only-of-type {\n",
       "        vertical-align: middle;\n",
       "    }\n",
       "\n",
       "    .dataframe tbody tr th {\n",
       "        vertical-align: top;\n",
       "    }\n",
       "\n",
       "    .dataframe thead th {\n",
       "        text-align: right;\n",
       "    }\n",
       "</style>\n",
       "<table border=\"1\" class=\"dataframe\">\n",
       "  <thead>\n",
       "    <tr style=\"text-align: right;\">\n",
       "      <th></th>\n",
       "      <th>Question</th>\n",
       "      <th>Answer</th>\n",
       "      <th>source</th>\n",
       "    </tr>\n",
       "  </thead>\n",
       "  <tbody>\n",
       "    <tr>\n",
       "      <th>0</th>\n",
       "      <td>Was Abraham Lincoln the sixteenth President of...</td>\n",
       "      <td>yes</td>\n",
       "      <td>S08</td>\n",
       "    </tr>\n",
       "    <tr>\n",
       "      <th>1</th>\n",
       "      <td>Was Abraham Lincoln the sixteenth President of...</td>\n",
       "      <td>Yes.</td>\n",
       "      <td>S08</td>\n",
       "    </tr>\n",
       "    <tr>\n",
       "      <th>2</th>\n",
       "      <td>Did Lincoln sign the National Banking Act of 1...</td>\n",
       "      <td>yes</td>\n",
       "      <td>S08</td>\n",
       "    </tr>\n",
       "    <tr>\n",
       "      <th>3</th>\n",
       "      <td>Did Lincoln sign the National Banking Act of 1...</td>\n",
       "      <td>Yes.</td>\n",
       "      <td>S08</td>\n",
       "    </tr>\n",
       "    <tr>\n",
       "      <th>4</th>\n",
       "      <td>Did his mother die of pneumonia?</td>\n",
       "      <td>no</td>\n",
       "      <td>S08</td>\n",
       "    </tr>\n",
       "  </tbody>\n",
       "</table>\n",
       "</div>"
      ],
      "text/plain": [
       "                                            Question Answer source\n",
       "0  Was Abraham Lincoln the sixteenth President of...    yes    S08\n",
       "1  Was Abraham Lincoln the sixteenth President of...   Yes.    S08\n",
       "2  Did Lincoln sign the National Banking Act of 1...    yes    S08\n",
       "3  Did Lincoln sign the National Banking Act of 1...   Yes.    S08\n",
       "4                   Did his mother die of pneumonia?     no    S08"
      ]
     },
     "execution_count": 6,
     "metadata": {},
     "output_type": "execute_result"
    }
   ],
   "source": [
    "base_path = '../data/Datasets'\n",
    "folders = ['S08', 'S09', 'S10']\n",
    "file_name = 'question_answer_pairs.txt'\n",
    "\n",
    "df_list = []\n",
    "\n",
    "for folder in folders:\n",
    "    file_path = os.path.join(base_path, folder, file_name)\n",
    "\n",
    "    # Load the file using encoding\n",
    "    df = pd.read_csv(file_path, sep='\\t', encoding='ISO-8859-1')\n",
    "\n",
    "    # Add column indicating the source year\n",
    "    df['source'] = folder\n",
    "\n",
    "    df_list.append(df)\n",
    "\n",
    "# Combine into one DataFrame\n",
    "qa_df = pd.concat(df_list, ignore_index=True)\n",
    "\n",
    "# Drop rows with missing Question or Answer\n",
    "qa_df = qa_df[['Question', 'Answer', 'source']].dropna()\n",
    "\n",
    "# Preview\n",
    "print(f\"Total merged Q&A pairs: {len(qa_df)}\")\n",
    "qa_df.head()"
   ]
  },
  {
   "cell_type": "code",
   "execution_count": 7,
   "id": "df0fcd3e-87e5-45c8-b43f-7a83376837de",
   "metadata": {},
   "outputs": [
    {
     "name": "stdout",
     "output_type": "stream",
     "text": [
      "After removing blanks/nulls: 3420 Q&A pairs\n"
     ]
    },
    {
     "data": {
      "application/vnd.microsoft.datawrangler.viewer.v0+json": {
       "columns": [
        {
         "name": "index",
         "rawType": "int64",
         "type": "integer"
        },
        {
         "name": "Question",
         "rawType": "object",
         "type": "string"
        },
        {
         "name": "Answer",
         "rawType": "object",
         "type": "string"
        },
        {
         "name": "source",
         "rawType": "object",
         "type": "string"
        }
       ],
       "ref": "66a6b688-1417-495b-bdf9-596ce54c4df5",
       "rows": [
        [
         "0",
         "Was Abraham Lincoln the sixteenth President of the United States?",
         "yes",
         "S08"
        ],
        [
         "1",
         "Was Abraham Lincoln the sixteenth President of the United States?",
         "Yes.",
         "S08"
        ],
        [
         "2",
         "Did Lincoln sign the National Banking Act of 1863?",
         "yes",
         "S08"
        ],
        [
         "3",
         "Did Lincoln sign the National Banking Act of 1863?",
         "Yes.",
         "S08"
        ],
        [
         "4",
         "Did his mother die of pneumonia?",
         "no",
         "S08"
        ]
       ],
       "shape": {
        "columns": 3,
        "rows": 5
       }
      },
      "text/html": [
       "<div>\n",
       "<style scoped>\n",
       "    .dataframe tbody tr th:only-of-type {\n",
       "        vertical-align: middle;\n",
       "    }\n",
       "\n",
       "    .dataframe tbody tr th {\n",
       "        vertical-align: top;\n",
       "    }\n",
       "\n",
       "    .dataframe thead th {\n",
       "        text-align: right;\n",
       "    }\n",
       "</style>\n",
       "<table border=\"1\" class=\"dataframe\">\n",
       "  <thead>\n",
       "    <tr style=\"text-align: right;\">\n",
       "      <th></th>\n",
       "      <th>Question</th>\n",
       "      <th>Answer</th>\n",
       "      <th>source</th>\n",
       "    </tr>\n",
       "  </thead>\n",
       "  <tbody>\n",
       "    <tr>\n",
       "      <th>0</th>\n",
       "      <td>Was Abraham Lincoln the sixteenth President of...</td>\n",
       "      <td>yes</td>\n",
       "      <td>S08</td>\n",
       "    </tr>\n",
       "    <tr>\n",
       "      <th>1</th>\n",
       "      <td>Was Abraham Lincoln the sixteenth President of...</td>\n",
       "      <td>Yes.</td>\n",
       "      <td>S08</td>\n",
       "    </tr>\n",
       "    <tr>\n",
       "      <th>2</th>\n",
       "      <td>Did Lincoln sign the National Banking Act of 1...</td>\n",
       "      <td>yes</td>\n",
       "      <td>S08</td>\n",
       "    </tr>\n",
       "    <tr>\n",
       "      <th>3</th>\n",
       "      <td>Did Lincoln sign the National Banking Act of 1...</td>\n",
       "      <td>Yes.</td>\n",
       "      <td>S08</td>\n",
       "    </tr>\n",
       "    <tr>\n",
       "      <th>4</th>\n",
       "      <td>Did his mother die of pneumonia?</td>\n",
       "      <td>no</td>\n",
       "      <td>S08</td>\n",
       "    </tr>\n",
       "  </tbody>\n",
       "</table>\n",
       "</div>"
      ],
      "text/plain": [
       "                                            Question Answer source\n",
       "0  Was Abraham Lincoln the sixteenth President of...    yes    S08\n",
       "1  Was Abraham Lincoln the sixteenth President of...   Yes.    S08\n",
       "2  Did Lincoln sign the National Banking Act of 1...    yes    S08\n",
       "3  Did Lincoln sign the National Banking Act of 1...   Yes.    S08\n",
       "4                   Did his mother die of pneumonia?     no    S08"
      ]
     },
     "execution_count": 7,
     "metadata": {},
     "output_type": "execute_result"
    }
   ],
   "source": [
    "# Remove rows with missing Question/Answer\n",
    "qa_df = qa_df.dropna(subset=['Question', 'Answer'])\n",
    "\n",
    "# Remove rows where question or answer is empty\n",
    "qa_df = qa_df[qa_df['Question'].str.strip() != '']\n",
    "qa_df = qa_df[qa_df['Answer'].str.strip() != '']\n",
    "\n",
    "# Reset index\n",
    "qa_df.reset_index(drop=True, inplace=True)\n",
    "\n",
    "# Preview cleaned count\n",
    "print(f\"After removing blanks/nulls: {len(qa_df)} Q&A pairs\")\n",
    "qa_df.head()"
   ]
  },
  {
   "cell_type": "code",
   "execution_count": 8,
   "id": "41eb251c-d478-4e09-9496-0721bfcdc06b",
   "metadata": {},
   "outputs": [],
   "source": [
    "### Clean and tokenize question and answer text\n",
    "# Lowercase\n",
    "# Remove punctuation\n",
    "# Tokenize using TreebankWordTokenizer\n",
    "# Add `<sos>` and `<eos>` to answers"
   ]
  },
  {
   "cell_type": "code",
   "execution_count": 9,
   "id": "57036e5b-f4fc-4008-9eb3-0ca9ccd6281c",
   "metadata": {},
   "outputs": [
    {
     "data": {
      "application/vnd.microsoft.datawrangler.viewer.v0+json": {
       "columns": [
        {
         "name": "index",
         "rawType": "int64",
         "type": "integer"
        },
        {
         "name": "Question",
         "rawType": "object",
         "type": "string"
        },
        {
         "name": "Answer",
         "rawType": "object",
         "type": "string"
        },
        {
         "name": "question_tokens",
         "rawType": "object",
         "type": "unknown"
        },
        {
         "name": "answer_tokens",
         "rawType": "object",
         "type": "unknown"
        }
       ],
       "ref": "e923222b-3446-4eb5-bb00-b5d43675f80a",
       "rows": [
        [
         "0",
         "Was Abraham Lincoln the sixteenth President of the United States?",
         "yes",
         "['was', 'abraham', 'lincoln', 'the', 'sixteenth', 'president', 'of', 'the', 'united', 'states']",
         "['<sos>', 'yes', '<eos>']"
        ],
        [
         "1",
         "Was Abraham Lincoln the sixteenth President of the United States?",
         "Yes.",
         "['was', 'abraham', 'lincoln', 'the', 'sixteenth', 'president', 'of', 'the', 'united', 'states']",
         "['<sos>', 'yes', '<eos>']"
        ],
        [
         "2",
         "Did Lincoln sign the National Banking Act of 1863?",
         "yes",
         "['did', 'lincoln', 'sign', 'the', 'national', 'banking', 'act', 'of', '1863']",
         "['<sos>', 'yes', '<eos>']"
        ],
        [
         "3",
         "Did Lincoln sign the National Banking Act of 1863?",
         "Yes.",
         "['did', 'lincoln', 'sign', 'the', 'national', 'banking', 'act', 'of', '1863']",
         "['<sos>', 'yes', '<eos>']"
        ],
        [
         "4",
         "Did his mother die of pneumonia?",
         "no",
         "['did', 'his', 'mother', 'die', 'of', 'pneumonia']",
         "['<sos>', 'no', '<eos>']"
        ],
        [
         "5",
         "Did his mother die of pneumonia?",
         "No.",
         "['did', 'his', 'mother', 'die', 'of', 'pneumonia']",
         "['<sos>', 'no', '<eos>']"
        ],
        [
         "6",
         "How many long was Lincoln's formal education?",
         "18 months",
         "['how', 'many', 'long', 'was', 'lincolns', 'formal', 'education']",
         "['<sos>', '18', 'months', '<eos>']"
        ],
        [
         "7",
         "How many long was Lincoln's formal education?",
         "18 months.",
         "['how', 'many', 'long', 'was', 'lincolns', 'formal', 'education']",
         "['<sos>', '18', 'months', '<eos>']"
        ],
        [
         "8",
         "When did Lincoln begin his political career?",
         "1832",
         "['when', 'did', 'lincoln', 'begin', 'his', 'political', 'career']",
         "['<sos>', '1832', '<eos>']"
        ],
        [
         "9",
         "When did Lincoln begin his political career?",
         "1832.",
         "['when', 'did', 'lincoln', 'begin', 'his', 'political', 'career']",
         "['<sos>', '1832', '<eos>']"
        ]
       ],
       "shape": {
        "columns": 4,
        "rows": 10
       }
      },
      "text/html": [
       "<div>\n",
       "<style scoped>\n",
       "    .dataframe tbody tr th:only-of-type {\n",
       "        vertical-align: middle;\n",
       "    }\n",
       "\n",
       "    .dataframe tbody tr th {\n",
       "        vertical-align: top;\n",
       "    }\n",
       "\n",
       "    .dataframe thead th {\n",
       "        text-align: right;\n",
       "    }\n",
       "</style>\n",
       "<table border=\"1\" class=\"dataframe\">\n",
       "  <thead>\n",
       "    <tr style=\"text-align: right;\">\n",
       "      <th></th>\n",
       "      <th>Question</th>\n",
       "      <th>Answer</th>\n",
       "      <th>question_tokens</th>\n",
       "      <th>answer_tokens</th>\n",
       "    </tr>\n",
       "  </thead>\n",
       "  <tbody>\n",
       "    <tr>\n",
       "      <th>0</th>\n",
       "      <td>Was Abraham Lincoln the sixteenth President of...</td>\n",
       "      <td>yes</td>\n",
       "      <td>[was, abraham, lincoln, the, sixteenth, presid...</td>\n",
       "      <td>[&lt;sos&gt;, yes, &lt;eos&gt;]</td>\n",
       "    </tr>\n",
       "    <tr>\n",
       "      <th>1</th>\n",
       "      <td>Was Abraham Lincoln the sixteenth President of...</td>\n",
       "      <td>Yes.</td>\n",
       "      <td>[was, abraham, lincoln, the, sixteenth, presid...</td>\n",
       "      <td>[&lt;sos&gt;, yes, &lt;eos&gt;]</td>\n",
       "    </tr>\n",
       "    <tr>\n",
       "      <th>2</th>\n",
       "      <td>Did Lincoln sign the National Banking Act of 1...</td>\n",
       "      <td>yes</td>\n",
       "      <td>[did, lincoln, sign, the, national, banking, a...</td>\n",
       "      <td>[&lt;sos&gt;, yes, &lt;eos&gt;]</td>\n",
       "    </tr>\n",
       "    <tr>\n",
       "      <th>3</th>\n",
       "      <td>Did Lincoln sign the National Banking Act of 1...</td>\n",
       "      <td>Yes.</td>\n",
       "      <td>[did, lincoln, sign, the, national, banking, a...</td>\n",
       "      <td>[&lt;sos&gt;, yes, &lt;eos&gt;]</td>\n",
       "    </tr>\n",
       "    <tr>\n",
       "      <th>4</th>\n",
       "      <td>Did his mother die of pneumonia?</td>\n",
       "      <td>no</td>\n",
       "      <td>[did, his, mother, die, of, pneumonia]</td>\n",
       "      <td>[&lt;sos&gt;, no, &lt;eos&gt;]</td>\n",
       "    </tr>\n",
       "    <tr>\n",
       "      <th>5</th>\n",
       "      <td>Did his mother die of pneumonia?</td>\n",
       "      <td>No.</td>\n",
       "      <td>[did, his, mother, die, of, pneumonia]</td>\n",
       "      <td>[&lt;sos&gt;, no, &lt;eos&gt;]</td>\n",
       "    </tr>\n",
       "    <tr>\n",
       "      <th>6</th>\n",
       "      <td>How many long was Lincoln's formal education?</td>\n",
       "      <td>18 months</td>\n",
       "      <td>[how, many, long, was, lincolns, formal, educa...</td>\n",
       "      <td>[&lt;sos&gt;, 18, months, &lt;eos&gt;]</td>\n",
       "    </tr>\n",
       "    <tr>\n",
       "      <th>7</th>\n",
       "      <td>How many long was Lincoln's formal education?</td>\n",
       "      <td>18 months.</td>\n",
       "      <td>[how, many, long, was, lincolns, formal, educa...</td>\n",
       "      <td>[&lt;sos&gt;, 18, months, &lt;eos&gt;]</td>\n",
       "    </tr>\n",
       "    <tr>\n",
       "      <th>8</th>\n",
       "      <td>When did Lincoln begin his political career?</td>\n",
       "      <td>1832</td>\n",
       "      <td>[when, did, lincoln, begin, his, political, ca...</td>\n",
       "      <td>[&lt;sos&gt;, 1832, &lt;eos&gt;]</td>\n",
       "    </tr>\n",
       "    <tr>\n",
       "      <th>9</th>\n",
       "      <td>When did Lincoln begin his political career?</td>\n",
       "      <td>1832.</td>\n",
       "      <td>[when, did, lincoln, begin, his, political, ca...</td>\n",
       "      <td>[&lt;sos&gt;, 1832, &lt;eos&gt;]</td>\n",
       "    </tr>\n",
       "  </tbody>\n",
       "</table>\n",
       "</div>"
      ],
      "text/plain": [
       "                                            Question      Answer  \\\n",
       "0  Was Abraham Lincoln the sixteenth President of...         yes   \n",
       "1  Was Abraham Lincoln the sixteenth President of...        Yes.   \n",
       "2  Did Lincoln sign the National Banking Act of 1...         yes   \n",
       "3  Did Lincoln sign the National Banking Act of 1...        Yes.   \n",
       "4                   Did his mother die of pneumonia?          no   \n",
       "5                   Did his mother die of pneumonia?         No.   \n",
       "6      How many long was Lincoln's formal education?   18 months   \n",
       "7      How many long was Lincoln's formal education?  18 months.   \n",
       "8       When did Lincoln begin his political career?        1832   \n",
       "9       When did Lincoln begin his political career?       1832.   \n",
       "\n",
       "                                     question_tokens  \\\n",
       "0  [was, abraham, lincoln, the, sixteenth, presid...   \n",
       "1  [was, abraham, lincoln, the, sixteenth, presid...   \n",
       "2  [did, lincoln, sign, the, national, banking, a...   \n",
       "3  [did, lincoln, sign, the, national, banking, a...   \n",
       "4             [did, his, mother, die, of, pneumonia]   \n",
       "5             [did, his, mother, die, of, pneumonia]   \n",
       "6  [how, many, long, was, lincolns, formal, educa...   \n",
       "7  [how, many, long, was, lincolns, formal, educa...   \n",
       "8  [when, did, lincoln, begin, his, political, ca...   \n",
       "9  [when, did, lincoln, begin, his, political, ca...   \n",
       "\n",
       "                answer_tokens  \n",
       "0         [<sos>, yes, <eos>]  \n",
       "1         [<sos>, yes, <eos>]  \n",
       "2         [<sos>, yes, <eos>]  \n",
       "3         [<sos>, yes, <eos>]  \n",
       "4          [<sos>, no, <eos>]  \n",
       "5          [<sos>, no, <eos>]  \n",
       "6  [<sos>, 18, months, <eos>]  \n",
       "7  [<sos>, 18, months, <eos>]  \n",
       "8        [<sos>, 1832, <eos>]  \n",
       "9        [<sos>, 1832, <eos>]  "
      ]
     },
     "execution_count": 9,
     "metadata": {},
     "output_type": "execute_result"
    }
   ],
   "source": [
    "def preprocess_text(text, is_answer=False):\n",
    "    text = str(text).lower().strip()\n",
    "    text = re.sub(r\"[^\\w\\s]\", \"\", text)\n",
    "    tokens = tokenizer.tokenize(text)\n",
    "    if is_answer:\n",
    "        tokens = ['<sos>'] + tokens + ['<eos>']\n",
    "    return tokens\n",
    "\n",
    "qa_df['question_tokens'] = qa_df['Question'].apply(lambda x: preprocess_text(x, is_answer=False))\n",
    "qa_df['answer_tokens']   = qa_df['Answer'].apply(lambda x: preprocess_text(x, is_answer=True))\n",
    "\n",
    "qa_df[['Question', 'Answer', 'question_tokens', 'answer_tokens']].head(10)\n"
   ]
  },
  {
   "cell_type": "code",
   "execution_count": 10,
   "id": "0fc3a4c8-b6cc-4ee4-9ace-3f647795cbf6",
   "metadata": {},
   "outputs": [],
   "source": [
    "### Build vocabulary from tokenized data\n",
    "# Count word frequency across questions + answers\n",
    "# Reserve special tokens: `<pad>`, `<unk>`, `<sos>`, `<eos>`\n",
    "# Limit vocab to most frequent 10,000 tokens"
   ]
  },
  {
   "cell_type": "code",
   "execution_count": 11,
   "id": "569d317c-794f-406f-b61c-d286d4105473",
   "metadata": {},
   "outputs": [
    {
     "name": "stdout",
     "output_type": "stream",
     "text": [
      "Vocab size (with special tokens): 5748\n",
      "Sample vocabulary items: [('<pad>', 0), ('<unk>', 1), ('<sos>', 2), ('<eos>', 3), ('the', 4), ('of', 5), ('yes', 6), ('is', 7), ('in', 8), ('a', 9)]\n"
     ]
    }
   ],
   "source": [
    "from collections import Counter\n",
    "\n",
    "# Combine all tokens\n",
    "all_tokens = qa_df['question_tokens'].explode().tolist() + qa_df['answer_tokens'].explode().tolist()\n",
    "\n",
    "# Frequencies\n",
    "word_freq = Counter(all_tokens)\n",
    "\n",
    "# Vcab size\n",
    "vocab_size = 10000\n",
    "\n",
    "# Reserve special tokens\n",
    "special_tokens = ['<pad>', '<unk>', '<sos>', '<eos>']\n",
    "\n",
    "# Get most common tokens\n",
    "most_common = [word for word, _ in word_freq.most_common(vocab_size - len(special_tokens)) if word not in special_tokens]\n",
    "\n",
    "# Finallist\n",
    "vocab = special_tokens + most_common\n",
    "\n",
    "# Create dictionaries\n",
    "word2index = {word: idx for idx, word in enumerate(vocab)}\n",
    "index2word = {idx: word for word, idx in word2index.items()}\n",
    "\n",
    "# Confirm\n",
    "print(f\"Vocab size (with special tokens): {len(word2index)}\")\n",
    "print(\"Sample vocabulary items:\", list(word2index.items())[:10])\n"
   ]
  },
  {
   "cell_type": "code",
   "execution_count": 12,
   "id": "6bb04d72-5bd4-44a9-a0b5-7aafde4be9d2",
   "metadata": {},
   "outputs": [],
   "source": [
    "### Convert token sequences to integer index sequences using word2index"
   ]
  },
  {
   "cell_type": "code",
   "execution_count": 13,
   "id": "17234a7b-aef8-4172-b6df-bebca33ac0a0",
   "metadata": {},
   "outputs": [
    {
     "data": {
      "application/vnd.microsoft.datawrangler.viewer.v0+json": {
       "columns": [
        {
         "name": "index",
         "rawType": "int64",
         "type": "integer"
        },
        {
         "name": "question_tokens",
         "rawType": "object",
         "type": "unknown"
        },
        {
         "name": "question_indices",
         "rawType": "object",
         "type": "unknown"
        },
        {
         "name": "answer_tokens",
         "rawType": "object",
         "type": "unknown"
        },
        {
         "name": "answer_indices",
         "rawType": "object",
         "type": "unknown"
        }
       ],
       "ref": "86406bba-b9c7-42fb-b39f-81cb21b47ac3",
       "rows": [
        [
         "0",
         "['was', 'abraham', 'lincoln', 'the', 'sixteenth', 'president', 'of', 'the', 'united', 'states']",
         "[11, 1051, 136, 4, 2293, 69, 5, 4, 87, 105]",
         "['<sos>', 'yes', '<eos>']",
         "[2, 6, 3]"
        ],
        [
         "1",
         "['was', 'abraham', 'lincoln', 'the', 'sixteenth', 'president', 'of', 'the', 'united', 'states']",
         "[11, 1051, 136, 4, 2293, 69, 5, 4, 87, 105]",
         "['<sos>', 'yes', '<eos>']",
         "[2, 6, 3]"
        ],
        [
         "2",
         "['did', 'lincoln', 'sign', 'the', 'national', 'banking', 'act', 'of', '1863']",
         "[14, 136, 882, 4, 137, 2294, 413, 5, 2295]",
         "['<sos>', 'yes', '<eos>']",
         "[2, 6, 3]"
        ],
        [
         "3",
         "['did', 'lincoln', 'sign', 'the', 'national', 'banking', 'act', 'of', '1863']",
         "[14, 136, 882, 4, 137, 2294, 413, 5, 2295]",
         "['<sos>', 'yes', '<eos>']",
         "[2, 6, 3]"
        ],
        [
         "4",
         "['did', 'his', 'mother', 'die', 'of', 'pneumonia']",
         "[14, 33, 265, 150, 5, 2296]",
         "['<sos>', 'no', '<eos>']",
         "[2, 16, 3]"
        ]
       ],
       "shape": {
        "columns": 4,
        "rows": 5
       }
      },
      "text/html": [
       "<div>\n",
       "<style scoped>\n",
       "    .dataframe tbody tr th:only-of-type {\n",
       "        vertical-align: middle;\n",
       "    }\n",
       "\n",
       "    .dataframe tbody tr th {\n",
       "        vertical-align: top;\n",
       "    }\n",
       "\n",
       "    .dataframe thead th {\n",
       "        text-align: right;\n",
       "    }\n",
       "</style>\n",
       "<table border=\"1\" class=\"dataframe\">\n",
       "  <thead>\n",
       "    <tr style=\"text-align: right;\">\n",
       "      <th></th>\n",
       "      <th>question_tokens</th>\n",
       "      <th>question_indices</th>\n",
       "      <th>answer_tokens</th>\n",
       "      <th>answer_indices</th>\n",
       "    </tr>\n",
       "  </thead>\n",
       "  <tbody>\n",
       "    <tr>\n",
       "      <th>0</th>\n",
       "      <td>[was, abraham, lincoln, the, sixteenth, presid...</td>\n",
       "      <td>[11, 1051, 136, 4, 2293, 69, 5, 4, 87, 105]</td>\n",
       "      <td>[&lt;sos&gt;, yes, &lt;eos&gt;]</td>\n",
       "      <td>[2, 6, 3]</td>\n",
       "    </tr>\n",
       "    <tr>\n",
       "      <th>1</th>\n",
       "      <td>[was, abraham, lincoln, the, sixteenth, presid...</td>\n",
       "      <td>[11, 1051, 136, 4, 2293, 69, 5, 4, 87, 105]</td>\n",
       "      <td>[&lt;sos&gt;, yes, &lt;eos&gt;]</td>\n",
       "      <td>[2, 6, 3]</td>\n",
       "    </tr>\n",
       "    <tr>\n",
       "      <th>2</th>\n",
       "      <td>[did, lincoln, sign, the, national, banking, a...</td>\n",
       "      <td>[14, 136, 882, 4, 137, 2294, 413, 5, 2295]</td>\n",
       "      <td>[&lt;sos&gt;, yes, &lt;eos&gt;]</td>\n",
       "      <td>[2, 6, 3]</td>\n",
       "    </tr>\n",
       "    <tr>\n",
       "      <th>3</th>\n",
       "      <td>[did, lincoln, sign, the, national, banking, a...</td>\n",
       "      <td>[14, 136, 882, 4, 137, 2294, 413, 5, 2295]</td>\n",
       "      <td>[&lt;sos&gt;, yes, &lt;eos&gt;]</td>\n",
       "      <td>[2, 6, 3]</td>\n",
       "    </tr>\n",
       "    <tr>\n",
       "      <th>4</th>\n",
       "      <td>[did, his, mother, die, of, pneumonia]</td>\n",
       "      <td>[14, 33, 265, 150, 5, 2296]</td>\n",
       "      <td>[&lt;sos&gt;, no, &lt;eos&gt;]</td>\n",
       "      <td>[2, 16, 3]</td>\n",
       "    </tr>\n",
       "  </tbody>\n",
       "</table>\n",
       "</div>"
      ],
      "text/plain": [
       "                                     question_tokens  \\\n",
       "0  [was, abraham, lincoln, the, sixteenth, presid...   \n",
       "1  [was, abraham, lincoln, the, sixteenth, presid...   \n",
       "2  [did, lincoln, sign, the, national, banking, a...   \n",
       "3  [did, lincoln, sign, the, national, banking, a...   \n",
       "4             [did, his, mother, die, of, pneumonia]   \n",
       "\n",
       "                              question_indices        answer_tokens  \\\n",
       "0  [11, 1051, 136, 4, 2293, 69, 5, 4, 87, 105]  [<sos>, yes, <eos>]   \n",
       "1  [11, 1051, 136, 4, 2293, 69, 5, 4, 87, 105]  [<sos>, yes, <eos>]   \n",
       "2   [14, 136, 882, 4, 137, 2294, 413, 5, 2295]  [<sos>, yes, <eos>]   \n",
       "3   [14, 136, 882, 4, 137, 2294, 413, 5, 2295]  [<sos>, yes, <eos>]   \n",
       "4                  [14, 33, 265, 150, 5, 2296]   [<sos>, no, <eos>]   \n",
       "\n",
       "  answer_indices  \n",
       "0      [2, 6, 3]  \n",
       "1      [2, 6, 3]  \n",
       "2      [2, 6, 3]  \n",
       "3      [2, 6, 3]  \n",
       "4     [2, 16, 3]  "
      ]
     },
     "execution_count": 13,
     "metadata": {},
     "output_type": "execute_result"
    }
   ],
   "source": [
    "# Convert tokens to indices\n",
    "def tokens_to_indices(tokens, word2index):\n",
    "    return [word2index.get(token, word2index['<unk>']) for token in tokens]\n",
    "\n",
    "# Apply to columns\n",
    "qa_df['question_indices'] = qa_df['question_tokens'].apply(lambda x: tokens_to_indices(x, word2index))\n",
    "qa_df['answer_indices']   = qa_df['answer_tokens'].apply(lambda x: tokens_to_indices(x, word2index))\n",
    "\n",
    "# Preview\n",
    "qa_df[['question_tokens', 'question_indices', 'answer_tokens', 'answer_indices']].head(5)\n"
   ]
  },
  {
   "cell_type": "code",
   "execution_count": 14,
   "id": "2c0e5792-4f1e-4de7-ac35-7bcffcd19fdb",
   "metadata": {},
   "outputs": [],
   "source": [
    "### Pad all sequences to fixed length"
   ]
  },
  {
   "cell_type": "code",
   "execution_count": 15,
   "id": "46269390-f082-4254-9ed9-4a5e8c0dca60",
   "metadata": {},
   "outputs": [
    {
     "data": {
      "application/vnd.microsoft.datawrangler.viewer.v0+json": {
       "columns": [
        {
         "name": "index",
         "rawType": "int64",
         "type": "integer"
        },
        {
         "name": "question_indices",
         "rawType": "object",
         "type": "unknown"
        },
        {
         "name": "question_padded",
         "rawType": "object",
         "type": "unknown"
        },
        {
         "name": "answer_indices",
         "rawType": "object",
         "type": "unknown"
        },
        {
         "name": "answer_padded",
         "rawType": "object",
         "type": "unknown"
        }
       ],
       "ref": "69fe4dfd-b291-4fbe-b0d3-a43776c07c10",
       "rows": [
        [
         "0",
         "[11, 1051, 136, 4, 2293, 69, 5, 4, 87, 105]",
         "[11, 1051, 136, 4, 2293, 69, 5, 4, 87, 105, 0, 0, 0, 0, 0, 0, 0, 0, 0, 0]",
         "[2, 6, 3]",
         "[2, 6, 3, 0, 0, 0, 0, 0, 0, 0, 0, 0, 0, 0, 0, 0, 0, 0, 0, 0]"
        ],
        [
         "1",
         "[11, 1051, 136, 4, 2293, 69, 5, 4, 87, 105]",
         "[11, 1051, 136, 4, 2293, 69, 5, 4, 87, 105, 0, 0, 0, 0, 0, 0, 0, 0, 0, 0]",
         "[2, 6, 3]",
         "[2, 6, 3, 0, 0, 0, 0, 0, 0, 0, 0, 0, 0, 0, 0, 0, 0, 0, 0, 0]"
        ],
        [
         "2",
         "[14, 136, 882, 4, 137, 2294, 413, 5, 2295]",
         "[14, 136, 882, 4, 137, 2294, 413, 5, 2295, 0, 0, 0, 0, 0, 0, 0, 0, 0, 0, 0]",
         "[2, 6, 3]",
         "[2, 6, 3, 0, 0, 0, 0, 0, 0, 0, 0, 0, 0, 0, 0, 0, 0, 0, 0, 0]"
        ],
        [
         "3",
         "[14, 136, 882, 4, 137, 2294, 413, 5, 2295]",
         "[14, 136, 882, 4, 137, 2294, 413, 5, 2295, 0, 0, 0, 0, 0, 0, 0, 0, 0, 0, 0]",
         "[2, 6, 3]",
         "[2, 6, 3, 0, 0, 0, 0, 0, 0, 0, 0, 0, 0, 0, 0, 0, 0, 0, 0, 0]"
        ],
        [
         "4",
         "[14, 33, 265, 150, 5, 2296]",
         "[14, 33, 265, 150, 5, 2296, 0, 0, 0, 0, 0, 0, 0, 0, 0, 0, 0, 0, 0, 0]",
         "[2, 16, 3]",
         "[2, 16, 3, 0, 0, 0, 0, 0, 0, 0, 0, 0, 0, 0, 0, 0, 0, 0, 0, 0]"
        ]
       ],
       "shape": {
        "columns": 4,
        "rows": 5
       }
      },
      "text/html": [
       "<div>\n",
       "<style scoped>\n",
       "    .dataframe tbody tr th:only-of-type {\n",
       "        vertical-align: middle;\n",
       "    }\n",
       "\n",
       "    .dataframe tbody tr th {\n",
       "        vertical-align: top;\n",
       "    }\n",
       "\n",
       "    .dataframe thead th {\n",
       "        text-align: right;\n",
       "    }\n",
       "</style>\n",
       "<table border=\"1\" class=\"dataframe\">\n",
       "  <thead>\n",
       "    <tr style=\"text-align: right;\">\n",
       "      <th></th>\n",
       "      <th>question_indices</th>\n",
       "      <th>question_padded</th>\n",
       "      <th>answer_indices</th>\n",
       "      <th>answer_padded</th>\n",
       "    </tr>\n",
       "  </thead>\n",
       "  <tbody>\n",
       "    <tr>\n",
       "      <th>0</th>\n",
       "      <td>[11, 1051, 136, 4, 2293, 69, 5, 4, 87, 105]</td>\n",
       "      <td>[11, 1051, 136, 4, 2293, 69, 5, 4, 87, 105, 0,...</td>\n",
       "      <td>[2, 6, 3]</td>\n",
       "      <td>[2, 6, 3, 0, 0, 0, 0, 0, 0, 0, 0, 0, 0, 0, 0, ...</td>\n",
       "    </tr>\n",
       "    <tr>\n",
       "      <th>1</th>\n",
       "      <td>[11, 1051, 136, 4, 2293, 69, 5, 4, 87, 105]</td>\n",
       "      <td>[11, 1051, 136, 4, 2293, 69, 5, 4, 87, 105, 0,...</td>\n",
       "      <td>[2, 6, 3]</td>\n",
       "      <td>[2, 6, 3, 0, 0, 0, 0, 0, 0, 0, 0, 0, 0, 0, 0, ...</td>\n",
       "    </tr>\n",
       "    <tr>\n",
       "      <th>2</th>\n",
       "      <td>[14, 136, 882, 4, 137, 2294, 413, 5, 2295]</td>\n",
       "      <td>[14, 136, 882, 4, 137, 2294, 413, 5, 2295, 0, ...</td>\n",
       "      <td>[2, 6, 3]</td>\n",
       "      <td>[2, 6, 3, 0, 0, 0, 0, 0, 0, 0, 0, 0, 0, 0, 0, ...</td>\n",
       "    </tr>\n",
       "    <tr>\n",
       "      <th>3</th>\n",
       "      <td>[14, 136, 882, 4, 137, 2294, 413, 5, 2295]</td>\n",
       "      <td>[14, 136, 882, 4, 137, 2294, 413, 5, 2295, 0, ...</td>\n",
       "      <td>[2, 6, 3]</td>\n",
       "      <td>[2, 6, 3, 0, 0, 0, 0, 0, 0, 0, 0, 0, 0, 0, 0, ...</td>\n",
       "    </tr>\n",
       "    <tr>\n",
       "      <th>4</th>\n",
       "      <td>[14, 33, 265, 150, 5, 2296]</td>\n",
       "      <td>[14, 33, 265, 150, 5, 2296, 0, 0, 0, 0, 0, 0, ...</td>\n",
       "      <td>[2, 16, 3]</td>\n",
       "      <td>[2, 16, 3, 0, 0, 0, 0, 0, 0, 0, 0, 0, 0, 0, 0,...</td>\n",
       "    </tr>\n",
       "  </tbody>\n",
       "</table>\n",
       "</div>"
      ],
      "text/plain": [
       "                              question_indices  \\\n",
       "0  [11, 1051, 136, 4, 2293, 69, 5, 4, 87, 105]   \n",
       "1  [11, 1051, 136, 4, 2293, 69, 5, 4, 87, 105]   \n",
       "2   [14, 136, 882, 4, 137, 2294, 413, 5, 2295]   \n",
       "3   [14, 136, 882, 4, 137, 2294, 413, 5, 2295]   \n",
       "4                  [14, 33, 265, 150, 5, 2296]   \n",
       "\n",
       "                                     question_padded answer_indices  \\\n",
       "0  [11, 1051, 136, 4, 2293, 69, 5, 4, 87, 105, 0,...      [2, 6, 3]   \n",
       "1  [11, 1051, 136, 4, 2293, 69, 5, 4, 87, 105, 0,...      [2, 6, 3]   \n",
       "2  [14, 136, 882, 4, 137, 2294, 413, 5, 2295, 0, ...      [2, 6, 3]   \n",
       "3  [14, 136, 882, 4, 137, 2294, 413, 5, 2295, 0, ...      [2, 6, 3]   \n",
       "4  [14, 33, 265, 150, 5, 2296, 0, 0, 0, 0, 0, 0, ...     [2, 16, 3]   \n",
       "\n",
       "                                       answer_padded  \n",
       "0  [2, 6, 3, 0, 0, 0, 0, 0, 0, 0, 0, 0, 0, 0, 0, ...  \n",
       "1  [2, 6, 3, 0, 0, 0, 0, 0, 0, 0, 0, 0, 0, 0, 0, ...  \n",
       "2  [2, 6, 3, 0, 0, 0, 0, 0, 0, 0, 0, 0, 0, 0, 0, ...  \n",
       "3  [2, 6, 3, 0, 0, 0, 0, 0, 0, 0, 0, 0, 0, 0, 0, ...  \n",
       "4  [2, 16, 3, 0, 0, 0, 0, 0, 0, 0, 0, 0, 0, 0, 0,...  "
      ]
     },
     "execution_count": 15,
     "metadata": {},
     "output_type": "execute_result"
    }
   ],
   "source": [
    "from torch.nn.utils.rnn import pad_sequence\n",
    "import torch\n",
    "\n",
    "# Define lengths\n",
    "MAX_QUESTION_LEN = 20\n",
    "MAX_ANSWER_LEN = 20\n",
    "\n",
    "# Padding\n",
    "def pad_sequence_to_length(seq, max_len):\n",
    "    if len(seq) > max_len:\n",
    "        return seq[:max_len]\n",
    "    return seq + [word2index['<pad>']] * (max_len - len(seq))\n",
    "\n",
    "# Apply padding\n",
    "qa_df['question_padded'] = qa_df['question_indices'].apply(lambda x: pad_sequence_to_length(x, MAX_QUESTION_LEN))\n",
    "qa_df['answer_padded']   = qa_df['answer_indices'].apply(lambda x: pad_sequence_to_length(x, MAX_ANSWER_LEN))\n",
    "\n",
    "# Preview\n",
    "qa_df[['question_indices', 'question_padded', 'answer_indices', 'answer_padded']].head(5)\n"
   ]
  },
  {
   "cell_type": "code",
   "execution_count": 16,
   "id": "80e04987-5d0f-467f-be20-1fe211780499",
   "metadata": {},
   "outputs": [],
   "source": [
    "### Split into Train / Validation / Test sets\n",
    "# 80% train\n",
    "# 10% validation\n",
    "# 10% test"
   ]
  },
  {
   "cell_type": "code",
   "execution_count": 17,
   "id": "c3ba94b2-a439-48cd-8837-0b56b0e577a6",
   "metadata": {},
   "outputs": [
    {
     "name": "stdout",
     "output_type": "stream",
     "text": [
      "Train set size: (2736, 20)\n",
      "Validation set size: (342, 20)\n",
      "Test set size: (342, 20)\n"
     ]
    }
   ],
   "source": [
    "from sklearn.model_selection import train_test_split\n",
    "\n",
    "# Extract padded sequences as numpy arrays\n",
    "X = np.array(qa_df['question_padded'].tolist())\n",
    "y = np.array(qa_df['answer_padded'].tolist())\n",
    "\n",
    "# First split: Train 80% vs (Val+Test) 20%\n",
    "X_train, X_temp, y_train, y_temp = train_test_split(X, y, test_size=0.2, random_state=42)\n",
    "\n",
    "# Second split: Val 10% vs Test 10%\n",
    "X_val, X_test, y_val, y_test = train_test_split(X_temp, y_temp, test_size=0.5, random_state=42)\n",
    "\n",
    "# Confirm sizes\n",
    "print(\"Train set size:\", X_train.shape)\n",
    "print(\"Validation set size:\", X_val.shape)\n",
    "print(\"Test set size:\", X_test.shape)"
   ]
  },
  {
   "cell_type": "code",
   "execution_count": null,
   "id": "81d484a1-afdc-41fb-8181-4d698a98c6ff",
   "metadata": {},
   "outputs": [
    {
     "name": "stdout",
     "output_type": "stream",
     "text": [
      "✓ Saved processed dataset to ../data/DATASET_PROCESSED.csv\n",
      "✓ Saved word2index to ../data/word2index.pkl\n",
      "✓ Saved index2word to ../data/index2word.pkl\n",
      "\n",
      "=== Preprocessing Complete ===\n",
      "Total Q&A pairs: 3420\n",
      "Vocabulary size: 5748\n",
      "Train samples: 2736\n",
      "Validation samples: 342\n",
      "Test samples: 342\n",
      "\n",
      "Files saved to ../data/ directory\n",
      "Ready for training!\n"
     ]
    }
   ],
   "source": [
    "### Save processed data and vocabulary for training scripts\n",
    "import pickle\n",
    "\n",
    "# Save the processed DataFrame\n",
    "qa_df.to_csv('../data/DATASET_PROCESSED.csv', index=False)\n",
    "print(\"Saved processed dataset to ../data/DATASET_PROCESSED.csv\")\n",
    "\n",
    "# Save vocabulary mappings\n",
    "with open('../data/word2index.pkl', 'wb') as f:\n",
    "    pickle.dump(word2index, f)\n",
    "print(\"Saved word2index to ../data/word2index.pkl\")\n",
    "\n",
    "with open('../data/index2word.pkl', 'wb') as f:\n",
    "    pickle.dump(index2word, f)\n",
    "print(\"Saved index2word to ../data/index2word.pkl\")\n",
    "\n",
    "print(f\"\\n=== Preprocessing Complete ===\")\n",
    "print(f\"Total Q&A pairs: {len(qa_df)}\")\n",
    "print(f\"Vocabulary size: {len(word2index)}\")\n",
    "print(f\"Train samples: {len(X_train)}\")\n",
    "print(f\"Validation samples: {len(X_val)}\")\n",
    "print(f\"Test samples: {len(X_test)}\")\n",
    "print(f\"\\nFiles saved to ../data/ directory\")\n",
    "print(\"Ready for training!\")"
   ]
  }
 ],
 "metadata": {
  "kernelspec": {
   "display_name": "csck507-naturallanguageprocessingandunderstanding",
   "language": "python",
   "name": "python3"
  },
  "language_info": {
   "codemirror_mode": {
    "name": "ipython",
    "version": 3
   },
   "file_extension": ".py",
   "mimetype": "text/x-python",
   "name": "python",
   "nbconvert_exporter": "python",
   "pygments_lexer": "ipython3",
   "version": "3.12.7"
  }
 },
 "nbformat": 4,
 "nbformat_minor": 5
}
